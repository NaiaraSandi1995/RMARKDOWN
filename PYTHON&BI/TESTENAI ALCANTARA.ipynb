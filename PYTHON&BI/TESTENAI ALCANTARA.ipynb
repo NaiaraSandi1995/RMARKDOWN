{
  "nbformat": 4,
  "nbformat_minor": 0,
  "metadata": {
    "colab": {
      "provenance": [],
      "toc_visible": true
    },
    "kernelspec": {
      "name": "python3",
      "display_name": "Python 3"
    },
    "language_info": {
      "name": "python"
    }
  },
  "cells": [
    {
      "cell_type": "markdown",
      "source": [
        "## Este teste será divido em duas  partes. Serão avaliadas noções de negócios, noções de SQL e noções de construção de dashboards.\n",
        "\n",
        "Na primeira parte você responderá perguntas sobre noções de negócio. Em seguida responderá perguntas relacionadas ao desenvolvimento de consultas SQL. E por fim você deverá construir um dashboard que responda as perguntas de negócio e traga novos insigths sobre os dados apresentados.\n",
        "\n",
        "**Você pode entregar até onde conseguir fazer o teste, até mesmo propor outras soluções que achar necessário. Não fique preso apenas ao que é solicitado!** 😀"
      ],
      "metadata": {
        "id": "tPVbvbFtd4zM"
      }
    },
    {
      "cell_type": "markdown",
      "source": [
        "## Noções de Negócios\n",
        "\n",
        "Aqui vamos avaliar questões do dia a dia, sobre como lidar com a equipe e o cliente.\n",
        "\n"
      ],
      "metadata": {
        "id": "SzG0eyBKRLtD"
      }
    },
    {
      "cell_type": "markdown",
      "source": [
        "1. Você é designado para um cliente com o objetivo de desenvolver um dashboard para a equipe Comercial. Você nunca trabalhou com este cliente e não tem contexto dos dados. Quais seriam seus passos para o desenvolvimento do trabalho?\n",
        "\n"
      ],
      "metadata": {
        "id": "kgs8DNihI7Lx"
      }
    },
    {
      "cell_type": "markdown",
      "source": [
        "Para começar eu faria uma reunião de kickoff com nosso setor comercial (que vendeu o projeto) para entender a ideia inicial.  \n",
        "\n",
        "Depois faria a reunião de briefing com o cliente, pois é importante entender quais são os objetivos que o conduziram a fazer pesquisa, o que ele espera entender, quais são seu objetivos, dentre outros.    \n",
        "Após essa reunião, eu estaria munida com as seguintes informações:\n",
        "\n",
        "1-Teria uma ideia de como funciona a empresa (seu ramo de negócio, quem são seus clientes e etc).   \n",
        "2-Poderia baixar ou solicitar a paleta de cores da empresa, logos e maneiras de utilização visual da marca\n",
        "3-Objetivos da pesquisa, então conseguiria já criar os insights, a partir dos dados  \n",
        "\n",
        "Diante disso eu daria o start no desenvolvimento do Dash. Primeiro organizaria os dados, depois pensaria em quais gráficos e ideias são mais interessantes para cada uma das páginas do BI, e iria fazendo no \"Dasktop\" e testando na versão \"Serviço\".   \n",
        "\n",
        "Quando estivesse pronto e revisado, mandaria o link para a revisão do meu superior, para críticas, correções, alterações, opiniões, enfim o que fosse cabível. Feitas todas as etapas do desenvolmento desse trabalho, o produto estaria pronto para ser entregue através de uma apresentação para o cliente. "
      ],
      "metadata": {
        "id": "pbQhIo2tePOc"
      }
    },
    {
      "cell_type": "markdown",
      "source": [
        "2. Como você traçaria um processo de validação de dados e consistencia das regras de negócio implementadas?"
      ],
      "metadata": {
        "id": "TaKnEu8dd7fa"
      }
    },
    {
      "cell_type": "markdown",
      "source": [
        "A validação dos dados seria feita através da verificação das lógicas do  questionários. Identificaria todas as questões não obrigatórias com lógicas. \n",
        "\n",
        "Por exemplo, \"Qual o número do seu sapato\" essa pergunta somente poderia ser respondida por mulheres que calçassem <=38, então inseriria exatamente essa regra na questão. Se houvesse uma célula respondida referente a um homem, então teria uma incosistênica e a resposta deveria ser excluída, pois homens não deveriam ter respondido. Se quem respondeu fosse uma mulher que calça 40, então esse número tambémm deveria ser apagado. \n",
        "\n",
        "Esse é um tipo de consistência que deveria ser feito na base de dados para validá-la. Já em relação as regras de negócio a serem implementadas pela empresa, tendo validado os dados, os valores indicarão quais são as melhores estratégias a serem implementadas. \n",
        "\n",
        "Por exemplo, se fosse uma pesquisa sobre o consumo de maquiagem de uma empresa X, cujo universo fossem suas clientes e os dados demonstrassem que:\n",
        "(1) A maioria das mulheres esta satisfeita com a qualidade dos protudos, (2)tem a pretensão de continuar comprando, isto é, irá se manter fiel e (3) dizem que se houver a criação de uma nova linha, continuariam comprando ainda que seja um pouco mais cara, pois acreditam que os produtos serão mais modernos. \n",
        "Veja, estamos falando sempre da maioria (mais do que 50% das/os entrevidas/os), sendo assim, é claramente recomendado que a empresa mantenha sua produção habital, suas regras de negócio, mas também pode lançar essa nova linha mais custosa, pois haverá boa receptividade por parte de suas clientes."
      ],
      "metadata": {
        "id": "TrnFgjxxRe5e"
      }
    },
    {
      "cell_type": "markdown",
      "metadata": {
        "id": "ls0vTQwK0C6z"
      },
      "source": [
        "# TESTE PRÁTICO DE LINGUAGEM DE CONSULTA ESTRUTURADA (SQL)\n",
        "Para a realização das atividades, você deverá executar as instruções abaixo para importar as bibliotecas e funções necessárias para criar a base de dados.\n",
        "\n",
        "Ao final, esperamos que você desenvolva os códigos selecionados e entregue o notebook com as consultas SQL desenvolvidas e o arquivo .db criado.\n",
        "\n",
        "O teste importará três arquivos cruciais para o desenvolvimento dessa atividade. Todos estão no Githun (não mude as URL's).\n",
        "\n",
        "*   usuarios.csv\n",
        "*   produtos.csv\n",
        "*   vendas.csv\n",
        "\n",
        "## O teste foi desenvolvido para ser executado com o SQLite3 e no Google Colab (Ubuntu 18.04). Você deverá utilizar consultas no padrão ANSI. Os comandos necessários podem ser encontrados em:\n",
        "\n",
        "https://www.sqlite.org/docs.html\n",
        "\n",
        "https://www.tutorialspoint.com/sqlite/index.htm\n",
        "\n"
      ]
    },
    {
      "cell_type": "markdown",
      "metadata": {
        "id": "bSjsGmXsuYqZ"
      },
      "source": [
        "# AVISO!\n",
        "\n",
        "\n",
        "\n",
        "1.   Execute o código abaixo para atualizar a biblioteca do SQLite3 utilizada para essa atividade\n",
        "2.   **Ignore as mensagens de erro sobre perda de conectividade na instrução abaixo (o kernel será reiniciado para atualização do SQLite3)**\n"
      ]
    },
    {
      "cell_type": "code",
      "metadata": {
        "id": "1TZeXvCkWawk",
        "colab": {
          "base_uri": "https://localhost:8080/"
        },
        "outputId": "362589e7-51a8-4510-a3f2-9aec9bb808cc"
      },
      "source": [
        "import os\n",
        "\n",
        "# BAIXAR A ÚLTIMA RELEASE DO COLAB, DESCOMPACTAR E INSTALAR NO DIRETÓRIO DO \n",
        "# PYTHON 3.7 (VERSÃO USADA PELO COLAB NESSE NOTEBOOK)\n",
        "!curl https://www.sqlite.org/src/tarball/sqlite.tar.gz?r=release | tar xz\n",
        "%cd sqlite/\n",
        "!./configure\n",
        "!make sqlite3.c\n",
        "%cd /content/sqlite/\n",
        "!npx degit coleifer/pysqlite3 -f\n",
        "!cp sqlite/sqlite3.[ch] .\n",
        "!python setup.py build_static build\n",
        "!cp build/lib.linux-x86_64-3.7/pysqlite3/_sqlite3.cpython-37m-x86_64-linux-gnu.so \\\n",
        "     /usr/lib/python3.7/lib-dynload/\n",
        "\n",
        "# REINICIANDO O KERNEL DO COLAB PARA IMPORTAR A BIBLIOTECA ATUALIZADA\n",
        "os.kill(os.getpid(), 9)"
      ],
      "execution_count": null,
      "outputs": [
        {
          "output_type": "stream",
          "name": "stdout",
          "text": [
            "  % Total    % Received % Xferd  Average Speed   Time    Time     Time  Current\n",
            "                                 Dload  Upload   Total   Spent    Left  Speed\n",
            "100 11.5M  100 11.5M    0     0  9580k      0  0:00:01  0:00:01 --:--:-- 9580k\n",
            "/content/sqlite\n",
            "checking build system type... x86_64-pc-linux-gnu\n",
            "checking host system type... x86_64-pc-linux-gnu\n",
            "checking for gcc... gcc\n",
            "checking whether the C compiler works... yes\n",
            "checking for C compiler default output file name... a.out\n",
            "checking for suffix of executables... \n",
            "checking whether we are cross compiling... no\n",
            "checking for suffix of object files... o\n",
            "checking whether we are using the GNU C compiler... yes\n",
            "checking whether gcc accepts -g... yes\n",
            "checking for gcc option to accept ISO C89... none needed\n",
            "checking for a sed that does not truncate output... /bin/sed\n",
            "checking for grep that handles long lines and -e... /bin/grep\n",
            "checking for egrep... /bin/grep -E\n",
            "checking for fgrep... /bin/grep -F\n",
            "checking for ld used by gcc... /usr/bin/ld\n",
            "checking if the linker (/usr/bin/ld) is GNU ld... yes\n",
            "checking for BSD- or MS-compatible name lister (nm)... /usr/bin/nm -B\n",
            "checking the name lister (/usr/bin/nm -B) interface... BSD nm\n",
            "checking whether ln -s works... yes\n",
            "checking the maximum length of command line arguments... 1572864\n",
            "checking whether the shell understands some XSI constructs... yes\n",
            "checking whether the shell understands \"+=\"... yes\n",
            "checking for /usr/bin/ld option to reload object files... -r\n",
            "checking for objdump... objdump\n",
            "checking how to recognize dependent libraries... pass_all\n",
            "checking for ar... ar\n",
            "checking for strip... strip\n",
            "checking for ranlib... ranlib\n",
            "checking command to parse /usr/bin/nm -B output from gcc object... ok\n",
            "./configure: line 5197: /usr/bin/file: No such file or directory\n",
            "checking how to run the C preprocessor... gcc -E\n",
            "checking for ANSI C header files... yes\n",
            "checking for sys/types.h... yes\n",
            "checking for sys/stat.h... yes\n",
            "checking for stdlib.h... yes\n",
            "checking for string.h... yes\n",
            "checking for memory.h... yes\n",
            "checking for strings.h... yes\n",
            "checking for inttypes.h... yes\n",
            "checking for stdint.h... yes\n",
            "checking for unistd.h... yes\n",
            "checking for dlfcn.h... yes\n",
            "checking for objdir... .libs\n",
            "checking if gcc supports -fno-rtti -fno-exceptions... no\n",
            "checking for gcc option to produce PIC... -fPIC -DPIC\n",
            "checking if gcc PIC flag -fPIC -DPIC works... yes\n",
            "checking if gcc static flag -static works... yes\n",
            "checking if gcc supports -c -o file.o... yes\n",
            "checking if gcc supports -c -o file.o... (cached) yes\n",
            "checking whether the gcc linker (/usr/bin/ld) supports shared libraries... yes\n",
            "checking whether -lc should be explicitly linked in... no\n",
            "checking dynamic linker characteristics... GNU/Linux ld.so\n",
            "checking how to hardcode library paths into programs... immediate\n",
            "checking whether stripping libraries is possible... yes\n",
            "checking if libtool supports shared libraries... yes\n",
            "checking whether to build shared libraries... yes\n",
            "checking whether to build static libraries... yes\n",
            "checking for a BSD-compatible install... /usr/bin/install -c\n",
            "checking for special C compiler options needed for large files... no\n",
            "checking for _FILE_OFFSET_BITS value needed for large files... no\n",
            "checking for int8_t... yes\n",
            "checking for int16_t... yes\n",
            "checking for int32_t... yes\n",
            "checking for int64_t... yes\n",
            "checking for intptr_t... yes\n",
            "checking for uint8_t... yes\n",
            "checking for uint16_t... yes\n",
            "checking for uint32_t... yes\n",
            "checking for uint64_t... yes\n",
            "checking for uintptr_t... yes\n",
            "checking for sys/types.h... (cached) yes\n",
            "checking for stdlib.h... (cached) yes\n",
            "checking for stdint.h... (cached) yes\n",
            "checking for inttypes.h... (cached) yes\n",
            "checking malloc.h usability... yes\n",
            "checking malloc.h presence... yes\n",
            "checking for malloc.h... yes\n",
            "checking for fdatasync... yes\n",
            "checking for gmtime_r... yes\n",
            "checking for isnan... yes\n",
            "checking for localtime_r... yes\n",
            "checking for localtime_s... no\n",
            "checking for malloc_usable_size... yes\n",
            "checking for strchrnul... yes\n",
            "checking for usleep... yes\n",
            "checking for utime... yes\n",
            "checking for pread... yes\n",
            "checking for pread64... yes\n",
            "checking for pwrite... yes\n",
            "checking for pwrite64... yes\n",
            "checking for tclsh8.7... no\n",
            "checking for tclsh8.6... tclsh8.6\n",
            "configure: Version set to 3.40\n",
            "configure: Release set to 3.40.0\n",
            "checking whether to support threadsafe operation... yes\n",
            "checking for library containing pthread_create... -lpthread\n",
            "checking for library containing pthread_mutexattr_init... none required\n",
            "checking whether to support shared library linked as release mode or not... no\n",
            "checking whether to use an in-ram database for temporary tables... no\n",
            "checking if executables have the .exe suffix... unknown\n",
            "checking for Tcl configuration... found /usr/lib/tclConfig.sh\n",
            "checking for existence of /usr/lib/tclConfig.sh... loading\n",
            "checking for library containing readline... no\n",
            "checking for library containing tgetent... -lncurses\n",
            "checking for readline in -lreadline... yes\n",
            "checking readline.h usability... no\n",
            "checking readline.h presence... no\n",
            "checking for readline.h... no\n",
            "checking for /usr/include/readline.h... no\n",
            "checking for /usr/include/readline/readline.h... yes\n",
            "checking for library containing fdatasync... none required\n",
            "checking build type... release\n",
            "checking zlib.h usability... yes\n",
            "checking zlib.h presence... yes\n",
            "checking for zlib.h... yes\n",
            "checking for library containing deflate... -lz\n",
            "checking for library containing dlopen... -ldl\n",
            "checking whether to support math functions... yes\n",
            "checking for library containing ceil... -lm\n",
            "checking whether to support JSON functions... yes\n",
            "checking whether to support MEMSYS5... no\n",
            "checking whether to support MEMSYS3... no\n",
            "checking whether to support FTS3... no\n",
            "checking whether to support FTS4... no\n",
            "checking whether to support FTS5... no\n",
            "checking whether to support LIMIT on UPDATE and DELETE statements... no\n",
            "checking whether to support GEOPOLY... no\n",
            "checking whether to support RTREE... no\n",
            "checking whether to support SESSION... no\n",
            "configure: creating ./config.status\n",
            "config.status: creating Makefile\n",
            "config.status: creating sqlite3.pc\n",
            "config.status: creating sqlite_cfg.h\n",
            "config.status: sqlite_cfg.h is unchanged\n",
            "config.status: executing libtool commands\n",
            "make: 'sqlite3.c' is up to date.\n",
            "/content/sqlite\n",
            "\u001b[K\u001b[?25hnpx: installed 1 in 0.956s\n",
            "\u001b[36m> destination directory is not empty. Using --force, continuing\u001b[39m\n",
            "\u001b[36m> cloned \u001b[1mcoleifer/pysqlite3\u001b[22m#\u001b[1mHEAD\u001b[22m\u001b[39m\n",
            "cp: cannot stat 'sqlite/sqlite3.[ch]': No such file or directory\n",
            "running build_static\n",
            "Builds a C extension using a sqlite3 amalgamation\n",
            "running build\n",
            "running build_py\n",
            "running build_ext\n",
            "Builds a C extension linking against libsqlite3 library\n"
          ]
        }
      ]
    },
    {
      "cell_type": "markdown",
      "metadata": {
        "id": "YD9I0i8qRVCo"
      },
      "source": [
        "# INSTRUÇÕES PARA REALIZAR AS CONSULTAS\n",
        "### PARA CONSULTAR DADOS, SIGA OS PASSOS ABAIXO:\n",
        "\n",
        "#### Abrir conexão:\n",
        "    conexao_sql = sqlite3.connect(banco)\n",
        "#### Abrir cursor para executar consulta no banco:\n",
        "    cursor = conexao_sql.cursor()\n",
        "#### Criar uma consulta:\n",
        "    consulta = '''\n",
        "        Coloque aqui a sua instrução SQL;\n",
        "    '''\n",
        "    cursor.execute(consulta)\n",
        "#### Para visualizar o resultado da sua consulta:\n",
        "    for linha in cursor:\n",
        "      print(linha)\n",
        "#### Para fechar a conexão:\n",
        "    conexao_sql.close()\n",
        "\n",
        "### LEMBRE-SE DE QUE PYTHON É SENSÍVEL A IDENTAÇÃO DE CÓDIGO!"
      ]
    },
    {
      "cell_type": "markdown",
      "metadata": {
        "id": "Q-JtQam4AsEU"
      },
      "source": [
        "# IMPORTANDO BIBLIOTECAS NECESSÁRIAS PARA EXECUTAR OS CÓDIGOS EM SQL"
      ]
    },
    {
      "cell_type": "code",
      "metadata": {
        "id": "0CBwbpEfAl5m"
      },
      "source": [
        "import sqlite3\n",
        "import csv\n",
        "import requests\n",
        "from pathlib import Path\n",
        "from urllib.parse import urlparse"
      ],
      "execution_count": 1,
      "outputs": []
    },
    {
      "cell_type": "markdown",
      "metadata": {
        "id": "-pbN5gB4MsUO"
      },
      "source": [
        "# DEFINIÇÃO DE VARIÁVEIS FIXAS PARA O PROJETO"
      ]
    },
    {
      "cell_type": "code",
      "metadata": {
        "id": "MExXbyvGMvoE"
      },
      "source": [
        "banco = \"teste_sql.db\""
      ],
      "execution_count": 2,
      "outputs": []
    },
    {
      "cell_type": "markdown",
      "metadata": {
        "id": "REYwFNTZ5u93"
      },
      "source": [
        "# FUNÇÃO PARA INSERIR REGISTROS NO BANCO DE DADOS"
      ]
    },
    {
      "cell_type": "code",
      "metadata": {
        "id": "-ocVcmyN5uHv"
      },
      "source": [
        "# Recebe como parâmetro\n",
        "# 1. Nome do banco de dados\n",
        "# 2. Nome da tabela que receberá os dados\n",
        "# 3. Lista das colunas da tabela\n",
        "# 4. Dados que serão inseridos\n",
        "\n",
        "def inserir_registros(banco, tabela, lista_colunas, arquivo):\n",
        "  conexao_sql = sqlite3.connect(banco)\n",
        "  cursor = conexao_sql.cursor()\n",
        "  dados = open(arquivo)\n",
        "  conteudo_dados = csv.reader(dados)\n",
        "  num_colunas = 1 if lista_colunas.count(',') == 1 else lista_colunas.count(',')\n",
        "  string_insert = 'INSERT INTO ' + tabela + ' (' + lista_colunas + ') VALUES (?' + ('' if num_colunas == 1 else ', ?' * (num_colunas)) + ')'\n",
        "  cursor.executemany(string_insert, conteudo_dados)\n",
        "  conexao_sql.commit()\n",
        "  conexao_sql.close()"
      ],
      "execution_count": 3,
      "outputs": []
    },
    {
      "cell_type": "markdown",
      "metadata": {
        "id": "8ZhCn-s-zofx"
      },
      "source": [
        "# FUNÇÃO PARA BAIXAR A BASE DE DADOS UTILIZADA PARA DESENVOLVIMENTO DAS ATIVIDADES"
      ]
    },
    {
      "cell_type": "code",
      "metadata": {
        "id": "jniWnEiPzsoR"
      },
      "source": [
        "# Recebe como parâmetro:\n",
        "# 1. Nome do arquivo com a extensão (Ex: base.csv)\n",
        "# 2. URL do site onde o dado está localizado (Ex: 'https://drive.google.com/user_teste/folder_dataset/file.csv'):\n",
        "\n",
        "def baixar_dados(nome_arquivo, url):\n",
        "  requisicao = requests.get(url)\n",
        "  conteudo = requisicao.content\n",
        "  arquivo_csv = open(nome_arquivo, 'wb')\n",
        "  arquivo_csv.write(conteudo)\n",
        "  arquivo_csv.close()"
      ],
      "execution_count": 4,
      "outputs": []
    },
    {
      "cell_type": "markdown",
      "metadata": {
        "id": "ZDzP63LXB-Yb"
      },
      "source": [
        "# CRIAÇÃO DE CONEXÃO COM O BANCO SQLITE3 PARA DESENVOLVIMENTO DA ATIVIDADE"
      ]
    },
    {
      "cell_type": "code",
      "metadata": {
        "id": "3XY-opKGB-Fc"
      },
      "source": [
        "# Abre conexão com o banco. Se o arquivo não existir, cria a base.\n",
        "conexao_sql = sqlite3.connect(banco)\n",
        "conexao_sql.close()"
      ],
      "execution_count": 5,
      "outputs": []
    },
    {
      "cell_type": "markdown",
      "metadata": {
        "id": "HnUMa9XnCcKb"
      },
      "source": [
        "# CRIAÇÃO DAS TABELAS PARA REALIZAÇÃO DAS ATIVIDADES"
      ]
    },
    {
      "cell_type": "markdown",
      "metadata": {
        "id": "YuyEsU8WAZZm"
      },
      "source": [
        "### TABELA DE USUÁRIOS"
      ]
    },
    {
      "cell_type": "code",
      "metadata": {
        "id": "GrzK24ITCS-O"
      },
      "source": [
        "url = 'https://raw.githubusercontent.com/A3Data/testes_praticos/main/sql/base_dados/usuarios.csv'\n",
        "nome_arquivo = Path(urlparse(url).path).name\n",
        "baixar_dados(nome_arquivo, url)\n",
        "\n",
        "conexao_sql = sqlite3.connect(banco)\n",
        "# CRIAR A TABELA\n",
        "conexao_sql.execute('''\n",
        "CREATE TABLE IF NOT EXISTS usuarios\n",
        "(\n",
        "  cod_usuario INTEGER NOT NULL,\n",
        "  data_cadastro DATE NOT NULL,\n",
        "  faixa_etaria TEXT,\n",
        "  cidade TEXT NOT NULL,\n",
        "  estado TEXT NOT NULL);'''\n",
        ")\n",
        "conexao_sql.commit()\n",
        "\n",
        "# INSERIR OS REGISTROS NO BANCO DE DADOS\n",
        "lista_campos = 'cod_usuario, data_cadastro, faixa_etaria, cidade, estado'\n",
        "inserir_registros(banco, 'usuarios', lista_campos, nome_arquivo)"
      ],
      "execution_count": 6,
      "outputs": []
    },
    {
      "cell_type": "markdown",
      "metadata": {
        "id": "DoMfz7RxJQzZ"
      },
      "source": [
        "### TABELA DE PRODUTOS"
      ]
    },
    {
      "cell_type": "code",
      "metadata": {
        "id": "qgL8Rka-JTPI"
      },
      "source": [
        "url = 'https://raw.githubusercontent.com/A3Data/testes_praticos/main/sql/base_dados/produtos.csv'\n",
        "nome_arquivo = Path(urlparse(url).path).name\n",
        "baixar_dados(nome_arquivo, url)\n",
        "\n",
        "conexao_sql = sqlite3.connect(banco)\n",
        "arquivo_produtos = 'produtos.csv'\n",
        "# CRIAR A TABELA\n",
        "conexao_sql.execute('''\n",
        "CREATE TABLE IF NOT EXISTS produtos\n",
        "(\n",
        "  cod_produto INTEGER NOT NULL,\n",
        "  nome_produto TEXT NOT NULL,\n",
        "  categoria_produto TEXT,\n",
        "  valor_produto FLOAT);'''\n",
        ")\n",
        "conexao_sql.commit()\n",
        "\n",
        "# INSERIR OS REGISTROS NO BANCO DE DADOS\n",
        "lista_campos = 'cod_produto, nome_produto, categoria_produto, valor_produto'\n",
        "inserir_registros(banco, 'produtos', lista_campos, arquivo_produtos)"
      ],
      "execution_count": 7,
      "outputs": []
    },
    {
      "cell_type": "markdown",
      "metadata": {
        "id": "Hgyf94onJxDN"
      },
      "source": [
        "### TABELA DE VENDAS"
      ]
    },
    {
      "cell_type": "code",
      "metadata": {
        "id": "8Wb1heaCNukB"
      },
      "source": [
        "url = 'https://raw.githubusercontent.com/A3Data/testes_praticos/main/sql/base_dados/vendas.csv'\n",
        "nome_arquivo = Path(urlparse(url).path).name\n",
        "baixar_dados(nome_arquivo, url)\n",
        "\n",
        "conexao_sql = sqlite3.connect(banco)\n",
        "arquivo_vendas = 'vendas.csv'\n",
        "# CRIAR A TABELA\n",
        "conexao_sql.execute('''\n",
        "CREATE TABLE IF NOT EXISTS vendas\n",
        "(\n",
        "  cod_usuario INTEGER NOT NULL,\n",
        "  cod_produto INTEGER NOT NULL,\n",
        "  data_compra DATE NOT NULL,\n",
        "  quantidade INT NOT NULL,\n",
        "  valor FLOAT NOT NULL);'''\n",
        ")\n",
        "conexao_sql.commit()\n",
        "\n",
        "# INSERIR OS REGISTROS NO BANCO DE DADOS\n",
        "lista_campos = 'cod_usuario, cod_produto, data_compra, quantidade, valor'\n",
        "inserir_registros(banco, 'vendas', lista_campos, arquivo_vendas)"
      ],
      "execution_count": 8,
      "outputs": []
    },
    {
      "cell_type": "markdown",
      "metadata": {
        "id": "nRJNYDRWTgiL"
      },
      "source": [
        "## Pergunta 1:\n",
        "\n",
        "\n",
        " Escreva um comando em SQL que retorne a quantidade de venda do estado de Minas Gerais por ano e mês"
      ]
    },
    {
      "cell_type": "code",
      "metadata": {
        "id": "ed_t8KnbRVz2",
        "colab": {
          "base_uri": "https://localhost:8080/"
        },
        "outputId": "2da28e51-70f1-46bc-af75-8aa53e41938e"
      },
      "source": [
        "from sqlite3.dbapi2 import SQLITE_SELECT\n",
        "\n",
        "cursor = conexao_sql.cursor()\n",
        "\n",
        "consulta = '''\n",
        "SELECT strftime('%Y-%m',data_compra) as data,\n",
        "  sum(quantidade) \n",
        "  FROM vendas \n",
        "    WHERE cod_usuario IN (SELECT cod_usuario FROM usuarios WHERE estado like \"Minas Gerais\")\n",
        "GROUP BY data\n",
        "'''\n",
        "\n",
        "cursor.execute(consulta)\n",
        "for linha in cursor:\n",
        "  print(linha)"
      ],
      "execution_count": 9,
      "outputs": [
        {
          "output_type": "stream",
          "name": "stdout",
          "text": [
            "('2018-06', 10)\n",
            "('2018-08', 16)\n",
            "('2018-10', 20)\n",
            "('2018-11', 10)\n",
            "('2018-12', 39)\n",
            "('2019-01', 20)\n",
            "('2019-02', 2)\n",
            "('2019-04', 26)\n",
            "('2019-05', 11)\n",
            "('2019-06', 1)\n",
            "('2019-07', 14)\n",
            "('2019-08', 15)\n",
            "('2019-09', 27)\n",
            "('2019-10', 3)\n",
            "('2019-11', 1)\n",
            "('2019-12', 25)\n",
            "('2020-01', 8)\n",
            "('2020-02', 10)\n",
            "('2020-03', 14)\n",
            "('2020-04', 1)\n",
            "('2020-05', 44)\n",
            "('2020-06', 18)\n",
            "('2020-07', 30)\n",
            "('2020-09', 44)\n",
            "('2020-10', 8)\n",
            "('2020-11', 43)\n",
            "('2020-12', 18)\n",
            "('2021-01', 21)\n",
            "('2021-02', 75)\n",
            "('2021-03', 6)\n",
            "('2021-04', 58)\n",
            "('2021-05', 22)\n",
            "('2021-06', 16)\n",
            "('2021-07', 61)\n"
          ]
        }
      ]
    },
    {
      "cell_type": "markdown",
      "metadata": {
        "id": "dJdjxIQSUMwC"
      },
      "source": [
        "## Pergunta 2:\n",
        "\n",
        "Escreva um comando em SQL que retorne quais são os 3 produtos mais comprados por estado, a quantidade de itens comprados, o valor total pago e a média de preço paga"
      ]
    },
    {
      "cell_type": "code",
      "source": [
        "from sqlite3.dbapi2 import SQLITE_SELECT\n",
        "\n",
        "cursor = conexao_sql.cursor()\n",
        "\n",
        "consulta = '''\n",
        "SELECT produtos.nome_produto, sum(vendas.quantidade), sum(vendas.valor), avg(vendas.valor), usuarios.estado\n",
        "FROM vendas, produtos, usuarios\n",
        "WHERE vendas.cod_usuario = usuarios.cod_usuario \n",
        "GROUP BY usuarios.estado\n",
        "'''\n",
        "cursor.execute(consulta)\n",
        "for linha in cursor:\n",
        "  print(linha)"
      ],
      "metadata": {
        "id": "eayXzmJkfvzj",
        "colab": {
          "base_uri": "https://localhost:8080/"
        },
        "outputId": "c723d08f-2c79-446c-ab37-a5249eacadb9"
      },
      "execution_count": 12,
      "outputs": [
        {
          "output_type": "stream",
          "name": "stdout",
          "text": [
            "('Notebook Asus Intel Core i7', 1281, 1078546.1399999992, 7337.048571428566, 'Amapá')\n",
            "('Notebook Asus Intel Core i7', 6111, 5064958.29, 7093.779117647059, 'Bahia')\n",
            "('Notebook Asus Intel Core i7', 1659, 2551388.07, 15186.83375, 'Ceará')\n",
            "('Notebook Asus Intel Core i7', 5250, 10149045.480000028, 19331.515200000053, 'Goiás')\n",
            "('Notebook Asus Intel Core i7', 5901, 4730530.769999983, 8045.120357142828, 'Maranhão')\n",
            "('Notebook Asus Intel Core i7', 3948, 3805174.800000014, 11324.925000000041, 'Mato Grosso')\n",
            "('Notebook Asus Intel Core i7', 2562, 3575669.1599999988, 18918.884444444437, 'Mato Grosso do Sul')\n",
            "('Notebook Asus Intel Core i7', 15477, 14975799.30000004, 10187.618571428598, 'Minas Gerais')\n",
            "('Notebook Asus Intel Core i7', 5880, 5235860.490000037, 9234.321851851917, 'Paraná')\n",
            "('Notebook Asus Intel Core i7', 2604, 2693161.800000009, 14249.533333333382, 'Paraíba')\n",
            "('Notebook Asus Intel Core i7', 2940, 3626189.7000000062, 12333.978571428592, 'Pernambuco')\n",
            "('Notebook Asus Intel Core i7', 2310, 3798136.860000005, 18086.366000000024, 'Piauí')\n",
            "('Notebook Asus Intel Core i7', 4536, 7547855.069999986, 19967.87055555552, 'Rio Grande do Norte')\n",
            "('Notebook Asus Intel Core i7', 6762, 4644135.089999985, 5819.718157894718, 'Rio Grande do Sul')\n",
            "('Notebook Asus Intel Core i7', 7917, 10861528.440000031, 12615.015609756134, 'Santa Catarina')\n",
            "('Notebook Asus Intel Core i7', 7518, 8890678.020000042, 11141.200526315843, 'São Paulo')\n",
            "('Notebook Asus Intel Core i7', 1995, 2308717.319999998, 9994.447272727264, 'Tocantins')\n"
          ]
        }
      ]
    },
    {
      "cell_type": "markdown",
      "source": [
        "## Pergunta 3\n",
        "\n",
        "Escreva um comando em SQL que retorne o produto, a quantidade de itens vendidos e a receita do produto que tem mais itens vendidos por ano e mês"
      ],
      "metadata": {
        "id": "Hs2o1EJphVrF"
      }
    },
    {
      "cell_type": "code",
      "source": [
        "from sqlite3.dbapi2 import SQLITE_SELECT\n",
        "\n",
        "cursor = conexao_sql.cursor()\n",
        "\n",
        "consulta = '''\n",
        "SELECT produtos.nome_produto, vendas.quantidade, vendas.quantidade * valor_produto, \n",
        "strftime('%Y',vendas.data_compra) as data1, strftime('%m',vendas.data_compra) as data2\n",
        "  FROM vendas, produtos\n",
        "  WHERE vendas.cod_produto = produtos.cod_produto\n",
        "  GROUP BY data1, data2\n",
        "  HAVING vendas.quantidade = max(vendas.quantidade)\n",
        "\n",
        "\n",
        "\n",
        "'''\n",
        "cursor.execute(consulta) \n",
        "for linha in cursor:\n",
        "  print(linha)"
      ],
      "metadata": {
        "colab": {
          "base_uri": "https://localhost:8080/"
        },
        "id": "SrjlUYY_K6r5",
        "outputId": "71da82b6-134d-4d5c-d1f8-cad3db4d6d83"
      },
      "execution_count": 13,
      "outputs": [
        {
          "output_type": "stream",
          "name": "stdout",
          "text": [
            "('Smartphone Samsung', 17, 34841.5, '2018', '01')\n",
            "('Jogo Mortal Kombat 11 PS4', 19, 948.1, '2018', '02')\n",
            "('Microoondas 35L', 20, 7782.0, '2018', '03')\n",
            "('Monitor LG 19 pol curvado', 20, 11682.0, '2018', '04')\n",
            "('Escrivaninha em L', 19, 8303.0, '2018', '05')\n",
            "('Monitor LG 19 pol curvado', 20, 11682.0, '2018', '06')\n",
            "('Cadeira Gamer Xpress', 20, 13998.0, '2018', '07')\n",
            "('Alcool em Gel 70% Johnson', 20, 99.80000000000001, '2018', '08')\n",
            "('Microoondas 35L', 20, 7782.0, '2018', '09')\n",
            "('Biscoito Chocolicia Chocolate', 20, 100.0, '2018', '10')\n",
            "('Umidificador de Ar Cadence', 20, 1550.0, '2018', '11')\n",
            "('Mochila Targus', 20, 1178.0, '2018', '12')\n",
            "('SmartTV Samsung 4K 55 polegadas', 20, 49998.0, '2019', '01')\n",
            "('Smartphone Samsung', 20, 40990.0, '2019', '02')\n",
            "('Sofa 3 lugares', 20, 17998.0, '2019', '03')\n",
            "('Mochila Targus', 20, 1178.0, '2019', '04')\n",
            "('Smartphone Samsung', 20, 40990.0, '2019', '05')\n",
            "('Lenço umedecido Turma da Monica', 20, 158.0, '2019', '06')\n",
            "('Cafeteira Nespresso', 20, 4391.4, '2019', '07')\n",
            "('Lenço umedecido Turma da Monica', 20, 158.0, '2019', '08')\n",
            "('SmartTV Samsung 4K 55 polegadas', 20, 49998.0, '2019', '09')\n",
            "('Kit 3 barras de chocolate Alpino', 20, 198.0, '2019', '10')\n",
            "('Escrivaninha em L', 20, 8740.0, '2019', '11')\n",
            "('SmartTV Samsung 4K 55 polegadas', 20, 49998.0, '2019', '12')\n",
            "('Bicicleta Caloi Aro 29', 20, 26915.6, '2020', '01')\n",
            "('SmartTV Samsung 4K 55 polegadas', 20, 49998.0, '2020', '02')\n",
            "('Sofa 3 lugares', 20, 17998.0, '2020', '03')\n",
            "('Sofa 3 lugares', 20, 17998.0, '2020', '04')\n",
            "('Kit 3 barras de chocolate Alpino', 20, 198.0, '2020', '05')\n",
            "('Notebook Asus Intel Core i7', 20, 91818.0, '2020', '06')\n",
            "('Umidificador de Ar Cadence', 20, 1550.0, '2020', '07')\n",
            "('Smartphone Samsung', 20, 40990.0, '2020', '08')\n",
            "('Bicicleta Caloi Aro 29', 20, 26915.6, '2020', '09')\n",
            "('Blusa Lacoste', 20, 2779.8, '2020', '10')\n",
            "('Umidificador de Ar Cadence', 20, 1550.0, '2020', '11')\n",
            "('Biscoito Chocolicia Chocolate', 20, 100.0, '2020', '12')\n",
            "('Aparelho de Barbear OneBlade Philco', 20, 2598.0, '2021', '01')\n",
            "('Cafeteira Nespresso', 20, 4391.4, '2021', '02')\n",
            "('Alcool em Gel 70% Johnson', 20, 99.80000000000001, '2021', '03')\n",
            "('Lenço umedecido Turma da Monica', 20, 158.0, '2021', '04')\n",
            "('Notebook Asus Intel Core i7', 20, 91818.0, '2021', '05')\n",
            "('SPA Intel 700 L', 20, 119982.0, '2021', '06')\n",
            "('Blusa Lacoste', 20, 2779.8, '2021', '07')\n"
          ]
        }
      ]
    },
    {
      "cell_type": "markdown",
      "source": [
        "# **Construção de dashboard** \n",
        "\n",
        "\n",
        "**Seu desafio é desenvolver uma análise dos dados de vendas disponibilizados pela Data Coporation, com o intuito de gerar insights para os gestores responsáveis.**\n",
        "\n",
        "O dashboard deverá conter apenas uma página e ser desenvolvido em Power BI.\n",
        "\n",
        "Segue algumas perguntas feitas pelos gestores que devem ser abordadas:\n",
        "\n",
        "1. O gerente geral da Data Corporation decidiu abrir operação de lojas fisicas em quatro cidades. Quais cidades você indicaria baseado no histórico de compras?\n",
        "\n",
        "2. Para abrir a operação de lojas fisicas o gerante também precisa decidir qual categoria ele deve investir, pensando em retorno financeiro. Além disso ele gostaria de indicações de produtos que possam alanvancar as vendas nos primeiros 6 meses. A proposta é que a abertura aconteça nos meses de janeiro e fevereiro. Qual seria sua indicação?\n",
        "\n",
        "\n",
        "**Não fique preso nas perguntas acima, novos insights são sempre bem vindos!**\n",
        "\n",
        "\n",
        "LINK PARA ACESSAR O POWER BI DA NAIARA: https://app.powerbi.com/view?r=eyJrIjoiNDc1ZjlkMGYtZWM3OC00MzQ4LTk1MmQtMzAxMDFkNDMwMDNlIiwidCI6IjM3MWYxZjdjLTA4OTQtNDFkMi04M2M5LTNlZWNkZmU2ODc1OCJ9&pageName=ReportSection\n",
        "\n",
        "\n",
        "<iframe title=\"PowerBi NaiAlcantara\" width=\"600\" height=\"373.5\" src=\"https://app.powerbi.com/view?r=eyJrIjoiNDc1ZjlkMGYtZWM3OC00MzQ4LTk1MmQtMzAxMDFkNDMwMDNlIiwidCI6IjM3MWYxZjdjLTA4OTQtNDFkMi04M2M5LTNlZWNkZmU2ODc1OCJ9&pageName=ReportSection\" frameborder=\"0\" allowFullScreen=\"true\"></iframe>\n",
        "\n"
      ],
      "metadata": {
        "id": "jkZjZ32lmPH2"
      }
    }
  ]
}